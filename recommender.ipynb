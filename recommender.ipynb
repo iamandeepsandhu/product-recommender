{
 "cells": [
  {
   "cell_type": "code",
   "execution_count": 1,
   "metadata": {},
   "outputs": [
    {
     "name": "stderr",
     "output_type": "stream",
     "text": [
      "[nltk_data] Downloading package stopwords to C:\\Users\\Amandeep\n",
      "[nltk_data]     Sandhu\\AppData\\Roaming\\nltk_data...\n",
      "[nltk_data]   Package stopwords is already up-to-date!\n"
     ]
    },
    {
     "data": {
      "text/plain": [
       "True"
      ]
     },
     "execution_count": 1,
     "metadata": {},
     "output_type": "execute_result"
    }
   ],
   "source": [
    "import pandas as pd\n",
    "import numpy as np\n",
    "from sklearn.feature_extraction.text import CountVectorizer\n",
    "from sklearn.metrics.pairwise import cosine_similarity\n",
    "from sklearn.feature_extraction.text import TfidfVectorizer\n",
    "from sklearn.metrics.pairwise import linear_kernel\n",
    "from nltk.corpus import stopwords\n",
    "import nltk\n",
    "nltk.download('stopwords')"
   ]
  },
  {
   "cell_type": "code",
   "execution_count": 2,
   "metadata": {},
   "outputs": [
    {
     "name": "stderr",
     "output_type": "stream",
     "text": [
      "C:\\ProgramData\\Anaconda3\\lib\\site-packages\\ipykernel_launcher.py:5: SettingWithCopyWarning: \n",
      "A value is trying to be set on a copy of a slice from a DataFrame.\n",
      "Try using .loc[row_indexer,col_indexer] = value instead\n",
      "\n",
      "See the caveats in the documentation: http://pandas.pydata.org/pandas-docs/stable/indexing.html#indexing-view-versus-copy\n",
      "  \"\"\"\n"
     ]
    }
   ],
   "source": [
    "df = pd.read_csv('ecommerce_sample_dataset.csv')\n",
    "df_new=df[['product_url','product_name','product_category_tree','discounted_price','is_FK_Advantage_product','description','overall_rating','brand','product_specifications']]\n",
    "bins = [0,1000,2000,3000,4000,5000,6000,7000,8000,9000,10000,20000,30000,40000,50000]\n",
    "labels = [\"<1000\", \"1000-2000\", \"2000-3000\", \"3000-4000\", \"4000-5000\", \"5000-6000\", \"6000-7000\", \"7000-8000\", \"8000-9000\", \"9000-1000\",\"10000-20000\", \"20000-30000\", \"30000-40000\", \">50000\"]\n",
    "df_new['price_bracket'] = pd.cut(df_new['discounted_price'], bins, labels=labels)\n",
    "df_new=df_new.dropna()\n",
    "\n",
    "def combine_features(row):\n",
    "        try:\n",
    "            return row['product_name']+\" \"+str(row['discounted_price'])+\" \"+str(row['is_FK_Advantage_product'])+\" \"+str(row['overall_rating'])+\" \"+row['brand']+\" \"+row['product_specifications']+\" \"+str(row['price_bracket'])\n",
    "        except:\n",
    "            print(\"Error\",row)\n",
    "            \n",
    "    \n",
    "df_new[\"combined_features\"] = df_new.apply(combine_features,axis=1)"
   ]
  },
  {
   "cell_type": "code",
   "execution_count": 3,
   "metadata": {},
   "outputs": [],
   "source": [
    "df_new.to_csv('cleaned_data.csv') "
   ]
  },
  {
   "cell_type": "code",
   "execution_count": 4,
   "metadata": {},
   "outputs": [],
   "source": [
    "i=df_new.shape[0]\n",
    "l=list(range(0,i)) \n",
    "df_new.index=l"
   ]
  },
  {
   "cell_type": "code",
   "execution_count": 5,
   "metadata": {},
   "outputs": [
    {
     "data": {
      "text/plain": [
       "(14040, 292235)"
      ]
     },
     "execution_count": 5,
     "metadata": {},
     "output_type": "execute_result"
    }
   ],
   "source": [
    "tf = TfidfVectorizer(analyzer='word', ngram_range=(1, 3), min_df=0, stop_words='english')\n",
    "tfidf_matrix = tf.fit_transform(df_new['combined_features'])\n",
    "tfidf_matrix.shape"
   ]
  },
  {
   "cell_type": "code",
   "execution_count": 6,
   "metadata": {},
   "outputs": [
    {
     "data": {
      "text/plain": [
       "14040"
      ]
     },
     "execution_count": 6,
     "metadata": {},
     "output_type": "execute_result"
    }
   ],
   "source": [
    "df1=df_new['product_url']\n",
    "df1.size"
   ]
  },
  {
   "cell_type": "code",
   "execution_count": 7,
   "metadata": {},
   "outputs": [],
   "source": [
    "def item(id):\n",
    "    return df1[id]\n",
    "\n",
    "def recommend(indices,scores,item_id,num):\n",
    "    print(\"Recommending \" + str(num) + \" products similar to \" + item(item_id))\n",
    "    print(\"---------------\")\n",
    "    i=0\n",
    "    while(i<num):\n",
    "        indice=indices[0,i+1]\n",
    "        print(\"Recommended: \" + item(indice)+\" Score: \"+  str(scores[0,indice]))\n",
    "        i=i+1\n",
    "\n",
    "def similar(item_id, num):\n",
    "    results = []\n",
    "    cosine_similarities = linear_kernel(tfidf_matrix[item_id], tfidf_matrix)\n",
    "    similar_indices = (-cosine_similarities).argsort()\n",
    "    recommend(similar_indices,cosine_similarities,item_id,num)"
   ]
  },
  {
   "cell_type": "code",
   "execution_count": 46,
   "metadata": {},
   "outputs": [
    {
     "name": "stdout",
     "output_type": "stream",
     "text": [
      "Enter index of item(check file [cleaned_data.csv] for index): 9979\n"
     ]
    }
   ],
   "source": [
    "val = input(\"Enter index of item(check file [cleaned_data.csv] for index): \") "
   ]
  },
  {
   "cell_type": "code",
   "execution_count": 47,
   "metadata": {},
   "outputs": [
    {
     "name": "stdout",
     "output_type": "stream",
     "text": [
      "Recommending 5 products similar to http://www.flipkart.com/karatcraft-risena-gold-diamond-18-k-ring/p/itme87fchrqpkgpc?pid=RNGE87FCSCBAVHFT\n",
      "---------------\n",
      "Recommended: http://www.flipkart.com/karatcraft-trilic-gold-diamond-18-k-ring/p/itme87fcfefhrq5a?pid=RNGE87FCSVHHR2SQ Score: 0.648468477154659\n",
      "Recommended: http://www.flipkart.com/karatcraft-risena-gold-diamond-18-k-ring/p/itme7t8ffacgy3hc?pid=RNGE86J7VJNYBSHZ Score: 0.6472100757674706\n",
      "Recommended: http://www.flipkart.com/karatcraft-twilite-gold-diamond-18-k-ring/p/itme87fca6xgahgh?pid=RNGE87FCCDJQYSQ9 Score: 0.6420418242990369\n",
      "Recommended: http://www.flipkart.com/karatcraft-klytie-gold-diamond-18-k-ring/p/itme87fca9ahazbs?pid=RNGE87FCKGMNGHXP Score: 0.6095711172647118\n",
      "Recommended: http://www.flipkart.com/karatcraft-raciel-gold-diamond-18-k-ring/p/itme87fcptmgy2yh?pid=RNGE87FCHNTBK927 Score: 0.6081185383037092\n"
     ]
    }
   ],
   "source": [
    "similar(int(val),5)"
   ]
  },
  {
   "cell_type": "code",
   "execution_count": null,
   "metadata": {},
   "outputs": [],
   "source": []
  }
 ],
 "metadata": {
  "kernelspec": {
   "display_name": "Python 3",
   "language": "python",
   "name": "python3"
  },
  "language_info": {
   "codemirror_mode": {
    "name": "ipython",
    "version": 3
   },
   "file_extension": ".py",
   "mimetype": "text/x-python",
   "name": "python",
   "nbconvert_exporter": "python",
   "pygments_lexer": "ipython3",
   "version": "3.7.3"
  }
 },
 "nbformat": 4,
 "nbformat_minor": 2
}
